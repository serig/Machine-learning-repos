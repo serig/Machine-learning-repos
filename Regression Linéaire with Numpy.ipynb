{
 "cells": [
  {
   "cell_type": "markdown",
   "metadata": {},
   "source": [
    "# La Regression Linéaire avec Numpy"
   ]
  },
  {
   "cell_type": "code",
   "execution_count": 2,
   "metadata": {},
   "outputs": [],
   "source": [
    "import numpy as np\n",
    "from sklearn.datasets import make_regression\n",
    "import matplotlib.pyplot as plt"
   ]
  },
  {
   "cell_type": "code",
   "execution_count": 26,
   "metadata": {},
   "outputs": [],
   "source": [
    "#Set the datasets with make_regression\n",
    "x, y = make_regression(n_samples=100, n_features=1, noise=10)\n",
    "#reshape y\n",
    "y = y.reshape(y.shape[0], 1)"
   ]
  },
  {
   "cell_type": "code",
   "execution_count": 27,
   "metadata": {},
   "outputs": [],
   "source": [
    "#transform x as a matrix with 100x2 order the 2nd colown fill with 1\n",
    "X = np.hstack((x, np.ones(x.shape)))"
   ]
  },
  {
   "cell_type": "code",
   "execution_count": 16,
   "metadata": {},
   "outputs": [
    {
     "data": {
      "text/plain": [
       "array([[-1.05487135,  1.        ],\n",
       "       [ 0.11600916,  1.        ],\n",
       "       [-2.03391856,  1.        ],\n",
       "       [-0.99793981,  1.        ],\n",
       "       [ 0.9719258 ,  1.        ],\n",
       "       [-1.80329797,  1.        ],\n",
       "       [ 0.26248408,  1.        ],\n",
       "       [-1.37180921,  1.        ],\n",
       "       [ 0.89114866,  1.        ],\n",
       "       [ 0.60536146,  1.        ],\n",
       "       [-1.22244624,  1.        ],\n",
       "       [ 0.52968726,  1.        ],\n",
       "       [ 0.4089802 ,  1.        ],\n",
       "       [ 0.31820233,  1.        ],\n",
       "       [-0.14643066,  1.        ],\n",
       "       [ 0.48257562,  1.        ],\n",
       "       [-0.01021842,  1.        ],\n",
       "       [ 0.94404162,  1.        ],\n",
       "       [-0.12799608,  1.        ],\n",
       "       [-0.09897069,  1.        ],\n",
       "       [ 2.4189527 ,  1.        ],\n",
       "       [-0.06920076,  1.        ],\n",
       "       [ 0.09745521,  1.        ],\n",
       "       [-0.99351328,  1.        ],\n",
       "       [ 0.01427422,  1.        ],\n",
       "       [-0.97438437,  1.        ],\n",
       "       [-0.90240768,  1.        ],\n",
       "       [-1.30948959,  1.        ],\n",
       "       [ 0.35238197,  1.        ],\n",
       "       [ 0.41485697,  1.        ],\n",
       "       [-0.6845192 ,  1.        ],\n",
       "       [-1.13214656,  1.        ],\n",
       "       [-0.264674  ,  1.        ],\n",
       "       [ 0.01646537,  1.        ],\n",
       "       [-0.97433823,  1.        ],\n",
       "       [-0.6408639 ,  1.        ],\n",
       "       [-0.32802324,  1.        ],\n",
       "       [ 0.2292352 ,  1.        ],\n",
       "       [ 0.76800134,  1.        ],\n",
       "       [ 0.88743944,  1.        ],\n",
       "       [ 0.73076562,  1.        ],\n",
       "       [-1.42344479,  1.        ],\n",
       "       [-0.92940564,  1.        ],\n",
       "       [ 0.86250142,  1.        ],\n",
       "       [-0.03480621,  1.        ],\n",
       "       [-0.52990659,  1.        ],\n",
       "       [ 1.81687435,  1.        ],\n",
       "       [-1.73582475,  1.        ],\n",
       "       [-0.39614483,  1.        ],\n",
       "       [-1.18332035,  1.        ],\n",
       "       [ 1.36933766,  1.        ],\n",
       "       [-1.66989539,  1.        ],\n",
       "       [-1.60303648,  1.        ],\n",
       "       [-0.84536632,  1.        ],\n",
       "       [-0.26577213,  1.        ],\n",
       "       [-1.17028973,  1.        ],\n",
       "       [ 0.51995831,  1.        ],\n",
       "       [ 2.41264696,  1.        ],\n",
       "       [-1.80179409,  1.        ],\n",
       "       [-2.43355477,  1.        ],\n",
       "       [ 0.45405419,  1.        ],\n",
       "       [ 1.68839055,  1.        ],\n",
       "       [ 0.11013515,  1.        ],\n",
       "       [-0.87214209,  1.        ],\n",
       "       [ 0.7690282 ,  1.        ],\n",
       "       [-1.17701905,  1.        ],\n",
       "       [ 0.18595336,  1.        ],\n",
       "       [-0.53953799,  1.        ],\n",
       "       [ 1.22153938,  1.        ],\n",
       "       [ 0.26318989,  1.        ],\n",
       "       [ 1.60655243,  1.        ],\n",
       "       [ 0.0967281 ,  1.        ],\n",
       "       [-0.33155077,  1.        ],\n",
       "       [-0.94346421,  1.        ],\n",
       "       [-0.69129766,  1.        ],\n",
       "       [ 1.82108653,  1.        ],\n",
       "       [-0.03221827,  1.        ],\n",
       "       [-0.97332926,  1.        ],\n",
       "       [ 0.79173892,  1.        ],\n",
       "       [-0.4272108 ,  1.        ],\n",
       "       [ 0.67639498,  1.        ],\n",
       "       [-0.71608867,  1.        ],\n",
       "       [-0.33871173,  1.        ],\n",
       "       [ 1.26655279,  1.        ],\n",
       "       [-0.18891689,  1.        ],\n",
       "       [ 0.68358344,  1.        ],\n",
       "       [ 2.16320586,  1.        ],\n",
       "       [ 1.81471421,  1.        ],\n",
       "       [ 1.68975819,  1.        ],\n",
       "       [-0.32771398,  1.        ],\n",
       "       [ 1.81279235,  1.        ],\n",
       "       [ 0.57843067,  1.        ],\n",
       "       [-1.18519952,  1.        ],\n",
       "       [ 0.31132526,  1.        ],\n",
       "       [ 1.39179928,  1.        ],\n",
       "       [ 2.21256309,  1.        ],\n",
       "       [ 0.51180027,  1.        ],\n",
       "       [-2.04508241,  1.        ],\n",
       "       [ 0.19572944,  1.        ],\n",
       "       [-1.43433903,  1.        ]])"
      ]
     },
     "execution_count": 16,
     "metadata": {},
     "output_type": "execute_result"
    }
   ],
   "source": [
    "X"
   ]
  },
  {
   "cell_type": "markdown",
   "metadata": {},
   "source": [
    "## Parameters initialization\n",
    "$\\theta = \\begin{bmatrix} a \\\\ b \\end{bmatrix}$"
   ]
  },
  {
   "cell_type": "code",
   "execution_count": 20,
   "metadata": {},
   "outputs": [
    {
     "data": {
      "text/plain": [
       "array([[0.44049739],\n",
       "       [1.05623039]])"
      ]
     },
     "execution_count": 20,
     "metadata": {},
     "output_type": "execute_result"
    }
   ],
   "source": [
    "theta = np.random.randn(2, 1)\n",
    "theta"
   ]
  },
  {
   "cell_type": "markdown",
   "metadata": {},
   "source": [
    "# The Model Lineaire\n"
   ]
  },
  {
   "cell_type": "markdown",
   "metadata": {},
   "source": [
    "# F.$\\theta$"
   ]
  },
  {
   "cell_type": "code",
   "execution_count": 21,
   "metadata": {},
   "outputs": [],
   "source": [
    "def model(x, theta):\n",
    "    return x.dot(theta)"
   ]
  },
  {
   "cell_type": "code",
   "execution_count": 28,
   "metadata": {},
   "outputs": [
    {
     "data": {
      "text/plain": [
       "[<matplotlib.lines.Line2D at 0x2504b2b9808>]"
      ]
     },
     "execution_count": 28,
     "metadata": {},
     "output_type": "execute_result"
    },
    {
     "data": {
      "image/png": "[encoded data removed]",
      "text/plain": [
       "<Figure size 432x288 with 1 Axes>"
      ]
     },
     "metadata": {
      "needs_background": "light"
     },
     "output_type": "display_data"
    }
   ],
   "source": [
    "model(X, theta)\n",
    "plt.scatter(x,y)\n",
    "plt.plot(x, model(X, theta),c='r')"
   ]
  },
  {
   "cell_type": "markdown",
   "metadata": {},
   "source": [
    "# the Loss function\n",
    "J($\\theta$)=$\\frac{1}{2m}$ $\\sum_{n=0}^{n=m}$(X.$\\theta$ - Y)$^{2}$\n",
    "  \n",
    "  this function must minimise our error >> tend to zeros"
   ]
  },
  {
   "cell_type": "code",
   "execution_count": 30,
   "metadata": {},
   "outputs": [
    {
     "data": {
      "text/plain": [
       "39.24118265427659"
      ]
     },
     "execution_count": 30,
     "metadata": {},
     "output_type": "execute_result"
    }
   ],
   "source": [
    "def cost_function(X, y, theta):\n",
    "    m = len(y)\n",
    "    return 1/(2*m)*np.sum(model(X, theta) - y)**2\n",
    "\n",
    "cost_function(X, y, theta)"
   ]
  },
  {
   "cell_type": "markdown",
   "metadata": {},
   "source": [
    "# Gradient & Gradient descents\n",
    "$\\frac{\\partial J(\\theta)}{\\partial \\theta} = \\frac{1}{m} X^{T}(X.\\theta - Y)$"
   ]
  },
  {
   "cell_type": "code",
   "execution_count": 31,
   "metadata": {},
   "outputs": [],
   "source": [
    "def grad(X, y, theta):\n",
    "    m = len(y)\n",
    "    return 1/m*X.T.dot(model(X, theta) - y)"
   ]
  },
  {
   "cell_type": "markdown",
   "metadata": {},
   "source": [
    "$\\theta : \\theta - \\alpha*\\frac{\\partial J(\\theta)}{\\partial \\theta}$"
   ]
  },
  {
   "cell_type": "code",
   "execution_count": 40,
   "metadata": {},
   "outputs": [],
   "source": [
    "def grad_descent(X, y, theta, learning_rate, n_iter):\n",
    "    cost_history = np.zeros(n_iter)\n",
    "    for i in range(0, n_iter):\n",
    "        theta = theta - learning_rate*grad(X, y, theta)\n",
    "        cost_history[i] = cost_function(X, y, theta)\n",
    "    return theta, cost_history"
   ]
  },
  {
   "cell_type": "code",
   "execution_count": 46,
   "metadata": {},
   "outputs": [],
   "source": [
    "theta_final, cost_history = grad_descent(X, y, theta, learning_rate=0.01, n_iter=400)"
   ]
  },
  {
   "cell_type": "code",
   "execution_count": 47,
   "metadata": {},
   "outputs": [],
   "source": [
    "predictions = model(X, theta_final)"
   ]
  },
  {
   "cell_type": "code",
   "execution_count": 48,
   "metadata": {},
   "outputs": [
    {
     "data": {
      "text/plain": [
       "[<matplotlib.lines.Line2D at 0x2504c444b08>]"
      ]
     },
     "execution_count": 48,
     "metadata": {},
     "output_type": "execute_result"
    },
    {
     "data": {
      "image/png": "[encoded data removed]",
      "text/plain": [
       "<Figure size 432x288 with 1 Axes>"
      ]
     },
     "metadata": {
      "needs_background": "light"
     },
     "output_type": "display_data"
    }
   ],
   "source": [
    "plt.scatter(x,y)\n",
    "plt.plot(x, predictions, c='r')"
   ]
  },
  {
   "cell_type": "markdown",
   "metadata": {},
   "source": [
    "# Cost_history"
   ]
  },
  {
   "cell_type": "code",
   "execution_count": 50,
   "metadata": {},
   "outputs": [
    {
     "data": {
      "text/plain": [
       "[<matplotlib.lines.Line2D at 0x2504c444488>]"
      ]
     },
     "execution_count": 50,
     "metadata": {},
     "output_type": "execute_result"
    },
    {
     "data": {
      "image/png": "[encoded data removed]",
      "text/plain": [
       "<Figure size 432x288 with 1 Axes>"
      ]
     },
     "metadata": {
      "needs_background": "light"
     },
     "output_type": "display_data"
    }
   ],
   "source": [
    "plt.plot(range(400), cost_history)"
   ]
  },
  {
   "cell_type": "markdown",
   "metadata": {},
   "source": [
    "## Calcul du R2 pour mesurer la performance de notre modele\n",
    "$R^{2}$ = 1 - $\\frac{\\sum (y - pred)^{2}}{\\sum (y - mean(y))^{2}}$"
   ]
  },
  {
   "cell_type": "code",
   "execution_count": 53,
   "metadata": {},
   "outputs": [],
   "source": [
    "def coef_det(y, pred):\n",
    "    u = ((y - pred)**2).sum()\n",
    "    v = ((y - y.mean())**2).sum()\n",
    "    return 1 - u/v\n",
    "    "
   ]
  },
  {
   "cell_type": "code",
   "execution_count": 54,
   "metadata": {},
   "outputs": [
    {
     "data": {
      "text/plain": [
       "0.8445307150693954"
      ]
     },
     "execution_count": 54,
     "metadata": {},
     "output_type": "execute_result"
    }
   ],
   "source": [
    "coef_det(y, predictions)"
   ]
  },
  {
   "cell_type": "code",
   "execution_count": null,
   "metadata": {},
   "outputs": [],
   "source": []
  }
 ],
 "metadata": {
  "kernelspec": {
   "display_name": "Python 3.7 (tensorflow)",
   "language": "python",
   "name": "tensorflow"
  },
  "language_info": {
   "codemirror_mode": {
    "name": "ipython",
    "version": 3
   },
   "file_extension": ".py",
   "mimetype": "text/x-python",
   "name": "python",
   "nbconvert_exporter": "python",
   "pygments_lexer": "ipython3",
   "version": "3.7.9"
  }
 },
 "nbformat": 4,
 "nbformat_minor": 4
}
